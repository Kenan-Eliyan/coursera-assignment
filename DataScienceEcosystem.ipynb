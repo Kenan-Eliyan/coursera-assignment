{
 "cells": [
  {
   "cell_type": "markdown",
   "id": "126509ec-4497-4528-929d-943f2a52a354",
   "metadata": {},
   "source": [
    "# Data Science Tools and Ecosystem "
   ]
  },
  {
   "cell_type": "markdown",
   "id": "65fb70c5-18e0-4a6f-957b-39dcb67cea4f",
   "metadata": {},
   "source": [
    "### In this notebook, Data Science Tools and Ecosystem are summarized."
   ]
  },
  {
   "cell_type": "markdown",
   "id": "fafe276f-b772-4063-9057-47b0c93e4fa6",
   "metadata": {},
   "source": [
    "**Objectives:**\n",
    "* List popular languages for Data Science\n",
    "* Name some libraries used for Data Science\n",
    "* List Data Science tools\n",
    "* Knowing how to evaluate simple arithmetic expressions"
   ]
  },
  {
   "cell_type": "markdown",
   "id": "11cb4292-7ae8-4afe-a11c-2fc816f240aa",
   "metadata": {},
   "source": [
    "Some of the popular languages that Data Scientists use are:\r\n",
    "* Python\r\n",
    "* R\r\n",
    "* SQL\r\n",
    "* Java/Scala"
   ]
  },
  {
   "cell_type": "markdown",
   "id": "dfc6de59-cdb3-4dd1-9bdd-334aa51eec70",
   "metadata": {},
   "source": [
    "Some of the commonly used libraries used by Data Scientists include:\r\n",
    "* NumPy\r\n",
    "* Pandas\r\n",
    "* Seaborn\r\n",
    "* Matplotlib\r\n",
    "* Dplyr\r\n",
    "* SQLAlchemy"
   ]
  },
  {
   "cell_type": "markdown",
   "id": "83230e4b-c79c-4f4f-a0ed-51436db303e4",
   "metadata": {},
   "source": [
    "|Data Science Tools|\r\n",
    "|------|\r\n",
    "|Jupyter Notebook|\r\n",
    "|Rstudio|\r\n",
    "|Apache Zeppelin|"
   ]
  },
  {
   "cell_type": "markdown",
   "id": "11b72588-0363-4cc9-92bb-f7015afa70d6",
   "metadata": {},
   "source": [
    "### Below are a few examples of evaluating arithmetic expressions in Python"
   ]
  },
  {
   "cell_type": "code",
   "execution_count": 14,
   "id": "6fd83652-b32c-4cc3-bc95-41388986cbe7",
   "metadata": {},
   "outputs": [
    {
     "data": {
      "text/plain": [
       "17"
      ]
     },
     "execution_count": 14,
     "metadata": {},
     "output_type": "execute_result"
    }
   ],
   "source": [
    "# This a simple arithmetic expression to mutiply then add integers.\n",
    "(3*4)+5\n"
   ]
  },
  {
   "cell_type": "code",
   "execution_count": 15,
   "id": "f6d787f4-2876-457a-9560-509dd64842fe",
   "metadata": {},
   "outputs": [
    {
     "name": "stdout",
     "output_type": "stream",
     "text": [
      "200 minutes are 3.3333333333333335 in hours\n"
     ]
    }
   ],
   "source": [
    "# This will convert 200 minutes to hours by diving by 60\n",
    "a(200/60)\n"
   ]
  },
  {
   "cell_type": "markdown",
   "id": "ccf3c821-f26a-4e3d-af35-2004b84e54af",
   "metadata": {},
   "source": [
    "## Author:\n",
    "Kenan Eliyan"
   ]
  },
  {
   "cell_type": "code",
   "execution_count": null,
   "id": "68f153b6-a2dd-488b-b7e9-fb7f5e0fa751",
   "metadata": {},
   "outputs": [],
   "source": []
  }
 ],
 "metadata": {
  "kernelspec": {
   "display_name": "Python 3 (ipykernel)",
   "language": "python",
   "name": "python3"
  },
  "language_info": {
   "codemirror_mode": {
    "name": "ipython",
    "version": 3
   },
   "file_extension": ".py",
   "mimetype": "text/x-python",
   "name": "python",
   "nbconvert_exporter": "python",
   "pygments_lexer": "ipython3",
   "version": "3.12.0"
  }
 },
 "nbformat": 4,
 "nbformat_minor": 5
}
